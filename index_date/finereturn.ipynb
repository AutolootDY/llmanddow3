{
 "cells": [
  {
   "cell_type": "code",
   "execution_count": 5,
   "metadata": {},
   "outputs": [
    {
     "name": "stdout",
     "output_type": "stream",
     "text": [
      "คำนวณผลตอบแทนเสร็จแล้ว บันทึกไฟล์เป็น 'DJI_filtered_return2y.csv'\n"
     ]
    }
   ],
   "source": [
    "import pandas as pd\n",
    "\n",
    "# อ่านไฟล์ CSV พร้อมแปลงคอลัมน์วันที่ให้เป็น datetime\n",
    "df = pd.read_csv(\"NDX_filtered.csv\", parse_dates=['datetime'])\n",
    "\n",
    "# เปลี่ยนชื่อคอลัมน์ 'datetime' เป็น 'date'\n",
    "df.rename(columns={'datetime': 'date'}, inplace=True)\n",
    "\n",
    "# เรียงลำดับข้อมูลตาม symbol และวันที่ (ใช้ date_only)\n",
    "df.sort_values(['symbol', 'date'], inplace=True)\n",
    "\n",
    "# คำนวณผลตอบแทนรายวัน (daily return) สำหรับแต่ละหุ้น\n",
    "# โดยใช้ฟังก์ชัน .pct_change() บนคอลัมน์ close\n",
    "df['return'] = df.groupby('symbol')['close'].pct_change()\n",
    "\n",
    "# สำหรับแถวแรกของแต่ละกลุ่มอาจได้ค่า NaN ให้เติมเป็น 0 (หรือปรับตามที่ต้องการ)\n",
    "df['return'] = df['return'].fillna(0)\n",
    "\n",
    "# บันทึกไฟล์ CSV ใหม่ที่มีคอลัมน์ return เพิ่มเข้ามา\n",
    "df.to_csv(\"NDX_filtered_return.csv\", index=False)\n",
    "\n",
    "print(\"คำนวณผลตอบแทนเสร็จแล้ว บันทึกไฟล์เป็น 'DJI_filtered_return2y.csv'\")\n"
   ]
  }
 ],
 "metadata": {
  "kernelspec": {
   "display_name": "Python 3",
   "language": "python",
   "name": "python3"
  },
  "language_info": {
   "codemirror_mode": {
    "name": "ipython",
    "version": 3
   },
   "file_extension": ".py",
   "mimetype": "text/x-python",
   "name": "python",
   "nbconvert_exporter": "python",
   "pygments_lexer": "ipython3",
   "version": "3.11.7"
  }
 },
 "nbformat": 4,
 "nbformat_minor": 2
}
